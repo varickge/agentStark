{
 "cells": [
  {
   "cell_type": "code",
   "execution_count": 1,
   "metadata": {},
   "outputs": [],
   "source": [
    "import warnings\n",
    "warnings.filterwarnings('ignore')"
   ]
  },
  {
   "cell_type": "markdown",
   "metadata": {},
   "source": [
    "### Connecting to open ai using api key"
   ]
  },
  {
   "cell_type": "code",
   "execution_count": 18,
   "metadata": {},
   "outputs": [],
   "source": [
    "from langchain.llms import OpenAI\n",
    "\n",
    "llm = OpenAI(temperature=0.8, api_key='<api-key>', max_tokens=512, model=\"text-davinci-003\")"
   ]
  },
  {
   "cell_type": "markdown",
   "metadata": {},
   "source": [
    "### Usining yfinance api for getting actual prices and history of crypto"
   ]
  },
  {
   "cell_type": "code",
   "execution_count": 3,
   "metadata": {},
   "outputs": [],
   "source": [
    "import yfinance as yf\n",
    "BTC_Ticker = yf.Ticker(\"BTC-USD\")\n",
    "BTC_Data = BTC_Ticker.history(period=\"max\")"
   ]
  },
  {
   "cell_type": "code",
   "execution_count": 23,
   "metadata": {},
   "outputs": [],
   "source": [
    "inp = ''\n",
    "for high, low in zip(BTC_Data.iloc[-7:]['High'].values, BTC_Data.iloc[-7:]['Low'].values):\n",
    "    inp += f'{low} -> {high}, '\n",
    "# inp += '* -> *'\n",
    "\n",
    "# solution = f\"{BTC_Data.iloc[-1]['Low']} -> {BTC_Data.iloc[-1]['High']}\""
   ]
  },
  {
   "cell_type": "code",
   "execution_count": 24,
   "metadata": {},
   "outputs": [
    {
     "name": "stdout",
     "output_type": "stream",
     "text": [
      "35545.47265625 -> 37934.625, 35901.234375 -> 36704.484375, 36233.3125 -> 36839.28125, 36414.59765625 -> 37509.35546875, 36882.53125 -> 37756.8203125, 35813.8125 -> 37631.140625, 35756.5546875 -> 36569.84375, \n",
      "\n",
      "- This is the historical data of Bitcoin for the last 7 days in dollars.\n",
      "- The data is in ordered form from left to right.\n",
      "- The '->' symbol separates low and high values for each day. On the left side, it represents the low values, and on the right side, it represents the high values.\n",
      "- At each step, deeply analyze the data, identify trends, and attempt to predict how prices may change in the near future.\n",
      "- There must be no duplicate answers.\n",
      "- Each statement can be a partial or the final solution.\"\n"
     ]
    }
   ],
   "source": [
    "problem_description = f\"\"\"\n",
    "{inp}\n",
    "\n",
    "- This is the historical data of Bitcoin for the last 7 days in dollars.\n",
    "- The data is in ordered form from left to right.\n",
    "- The '->' symbol separates low and high values for each day. On the left side, it represents the low values, and on the right side, it represents the high values.\n",
    "- At each step, deeply analyze the data, identify trends, and attempt to predict how prices may change in the near future.\n",
    "- There must be no duplicate answers.\n",
    "- Each statement can be a partial or the final solution.\"\n",
    "\"\"\".strip()\n",
    "print(problem_description)"
   ]
  },
  {
   "cell_type": "code",
   "execution_count": 25,
   "metadata": {},
   "outputs": [],
   "source": [
    "import re\n",
    "from typing import Tuple\n",
    "\n",
    "from langchain_experimental.tot.checker import ToTChecker\n",
    "from langchain_experimental.tot.thought import ThoughtValidity\n",
    "\n",
    "\n",
    "class MyChecker(ToTChecker):\n",
    "    def evaluate(\n",
    "        self, problem_description: str, thoughts: Tuple[str, ...] = ()\n",
    "    ) -> ThoughtValidity:\n",
    "        return ThoughtValidity.INVALID"
   ]
  },
  {
   "cell_type": "markdown",
   "metadata": {},
   "source": [
    "## Tree of Thought Chain\n",
    "\n",
    "Initialize and run the ToT chain, with maximum number of interactions `k` set to `10` and the maximum number child thoughts `c` set to `5`."
   ]
  },
  {
   "cell_type": "code",
   "execution_count": 26,
   "metadata": {},
   "outputs": [
    {
     "name": "stdout",
     "output_type": "stream",
     "text": [
      "\n",
      "\n",
      "\u001b[1m> Entering new ToTChain chain...\u001b[0m\n",
      "Starting the ToT solve procedure.\n",
      "\u001b[31;1m\u001b[1;3mThought: The data suggests that Bitcoin is likely to increase in value in the near future.\n",
      "\u001b[0m\u001b[31;1m\u001b[1;3mThought: The data indicates that the trend of Bitcoin prices is currently upward.\n",
      "\u001b[0m\u001b[31;1m\u001b[1;3mThought: The data appears to suggest that Bitcoin prices are not likely to drop in the near future.\n",
      "\u001b[0m\u001b[31;1m\u001b[1;3mThought: The data suggests that Bitcoin is likely to remain volatile in the near future.\n",
      "\u001b[0m\u001b[31;1m\u001b[1;3mThought: The data shows that Bitcoin prices are likely to continue to fluctuate in the near future.\n",
      "\u001b[0m\u001b[31;1m\u001b[1;3mThought: The low price of Bitcoin on the last day is 37756.8203125 dollars.\n",
      "\u001b[0m\u001b[31;1m\u001b[1;3mThought: The high price of Bitcoin on the first day is 37934.625 dollars.\n",
      "\u001b[0m\u001b[31;1m\u001b[1;3mThought: The increase in Bitcoin prices over the last 7 days is 1773.09765625 dollars.\n",
      "\u001b[0m\u001b[31;1m\u001b[1;3mThought: The average daily change in Bitcoin prices over the last 7 days is 251.86395263671875 dollars.\n",
      "\u001b[0m\u001b[31;1m\u001b[1;3mThought: The trend of Bitcoin prices over the last 7 days is increasing.\n",
      "\u001b[0m\n",
      "\u001b[1m> Finished chain.\u001b[0m\n"
     ]
    },
    {
     "data": {
      "text/plain": [
       "'No solution found'"
      ]
     },
     "execution_count": 26,
     "metadata": {},
     "output_type": "execute_result"
    }
   ],
   "source": [
    "from langchain_experimental.tot.base import ToTChain\n",
    "\n",
    "tot_chain = ToTChain(\n",
    "    llm=llm, checker=MyChecker(), k=10, c=5, verbose=True, verbose_llm=False\n",
    ")\n",
    "tot_chain.run(problem_description=problem_description)"
   ]
  },
  {
   "cell_type": "code",
   "execution_count": null,
   "metadata": {},
   "outputs": [],
   "source": []
  }
 ],
 "metadata": {
  "kernelspec": {
   "display_name": "Python 3 (ipykernel)",
   "language": "python",
   "name": "python3"
  },
  "language_info": {
   "codemirror_mode": {
    "name": "ipython",
    "version": 3
   },
   "file_extension": ".py",
   "mimetype": "text/x-python",
   "name": "python",
   "nbconvert_exporter": "python",
   "pygments_lexer": "ipython3",
   "version": "3.9.7"
  }
 },
 "nbformat": 4,
 "nbformat_minor": 2
}
